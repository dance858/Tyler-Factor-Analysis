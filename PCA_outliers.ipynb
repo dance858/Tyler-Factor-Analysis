{
 "cells": [
  {
   "cell_type": "code",
   "execution_count": 4,
   "metadata": {},
   "outputs": [
    {
     "ename": "ImportError",
     "evalue": "cannot import name 'Tyler_FP' from 'estimators.Tyler_utils' (/home/daniel/Documents/Research2024/covariances/Tyler-Factor-Analysis/Tyler-Factor-Analysis/estimators/Tyler_utils.py)",
     "output_type": "error",
     "traceback": [
      "\u001b[0;31m---------------------------------------------------------------------------\u001b[0m",
      "\u001b[0;31mImportError\u001b[0m                               Traceback (most recent call last)",
      "Cell \u001b[0;32mIn[4], line 8\u001b[0m\n\u001b[1;32m      6\u001b[0m \u001b[38;5;28;01mimport\u001b[39;00m \u001b[38;5;21;01mnumpy\u001b[39;00m\u001b[38;5;21;01m.\u001b[39;00m\u001b[38;5;21;01mlinalg\u001b[39;00m \u001b[38;5;28;01mas\u001b[39;00m \u001b[38;5;21;01mLA\u001b[39;00m\n\u001b[1;32m      7\u001b[0m \u001b[38;5;28;01mfrom\u001b[39;00m \u001b[38;5;21;01mestimators\u001b[39;00m\u001b[38;5;21;01m.\u001b[39;00m\u001b[38;5;21;01mN_estimators\u001b[39;00m \u001b[38;5;28;01mimport\u001b[39;00m sample_mean_and_cov\n\u001b[0;32m----> 8\u001b[0m \u001b[38;5;28;01mfrom\u001b[39;00m \u001b[38;5;21;01mestimators\u001b[39;00m\u001b[38;5;21;01m.\u001b[39;00m\u001b[38;5;21;01mTyler_utils\u001b[39;00m \u001b[38;5;28;01mimport\u001b[39;00m Tyler_FP\n\u001b[1;32m      9\u001b[0m \u001b[38;5;28;01mimport\u001b[39;00m \u001b[38;5;21;01mpdb\u001b[39;00m\n",
      "\u001b[0;31mImportError\u001b[0m: cannot import name 'Tyler_FP' from 'estimators.Tyler_utils' (/home/daniel/Documents/Research2024/covariances/Tyler-Factor-Analysis/Tyler-Factor-Analysis/estimators/Tyler_utils.py)"
     ]
    }
   ],
   "source": [
    "import sys\n",
    "sys.path.append(\"../\")\n",
    "from experiments.utils import generate_samples\n",
    "import numpy as np\n",
    "import matplotlib.pyplot as plt\n",
    "import numpy.linalg as LA\n",
    "from estimators.N_estimators import sample_mean_and_cov\n",
    "from estimators.Tyler_utils import Tyler_FP\n"
   ]
  },
  {
   "cell_type": "code",
   "execution_count": null,
   "metadata": {},
   "outputs": [],
   "source": [
    "\n",
    "np.random.seed(0)\n",
    "n, m = 2, 100 \n",
    "cov_true = np.array([[1, 0.8], [0.8, 1]])\n",
    " \n",
    "X = generate_samples(m, \"N\", {'mu': np.zeros((n, )), 'cov': cov_true}) \n",
    "\n",
    "\n",
    "num_outliers = 3\n",
    "outliers = generate_samples(num_outliers, \"N\",  {'mu': np.array([-5,  5]), 'cov': cov_true})\n",
    "X = np.hstack([X, outliers])\n",
    "X = X - np.mean(X, axis=1, keepdims=True)\n",
    "S_X = sample_mean_and_cov(X)[1]\n",
    "\n",
    "evals0, evecs0 = LA.eigh(cov_true)\n",
    "evecs0 = -evecs0\n",
    "\n",
    "# Scatter plot of the data\n",
    "fig = plt.figure()\n",
    "plt.scatter(X[0, :-num_outliers], X[1, :-num_outliers], alpha=0.5, color=\"blue\")\n",
    "plt.scatter(X[0, -num_outliers:], X[1, -num_outliers:], alpha=0.5, color=\"red\")\n",
    "evals1, evecs1 = LA.eigh(S_X)\n",
    "\n",
    "# Plot principal components\n",
    "for i in range(2):\n",
    "    #component_vector = evecs1[:, i] * np.sqrt(evals1[i])\n",
    "    component_vector = 2*evecs1[:, i]\n",
    "    plt.quiver(0, 0, component_vector[0], component_vector[1], \n",
    "               angles='xy', scale_units='xy', alpha=0.5, scale=1, color='r', label=f'PC {i+1}')\n",
    "    component_vector = 2*evecs0[:, i]\n",
    "    plt.quiver(0, 0, component_vector[0], component_vector[1], \n",
    "               angles='xy', scale_units='xy', scale=1, color='g', label=f'PC {i+1}')\n",
    "\n",
    "y_lb = -6\n",
    "y_ub = 8\n",
    "x_lb = -6 \n",
    "x_ub = 6\n",
    "\n",
    "plt.axis('equal')\n",
    "#plt.ylim([y_lb, y_ub])\n",
    "#plt.xlim([x_lb, x_ub])\n",
    "plt.grid(alpha=0.3)\n",
    "plt.savefig(\"gaussian_PCA.pdf\")\n",
    "\n",
    "fig = plt.figure()\n",
    "X_norm = X / LA.norm(X, axis=0)\n",
    "plt.scatter(X_norm[0, :-num_outliers], X_norm[1, :-num_outliers], alpha=0.5, color=\"blue\")\n",
    "plt.scatter(X_norm[0, -num_outliers:], X_norm[1, -num_outliers:], alpha=0.5, color=\"red\")\n",
    "\n",
    "T_norm_scatter_estimate_T = Tyler_normalized_scatter_estimator_FP(X, 100)\n",
    "evals2, evecs2 = LA.eigh(T_norm_scatter_estimate_T)\n",
    "evecs2 = -evecs2\n",
    "\n",
    "#Plot principal components\n",
    "pdb.set_trace()\n",
    "for i in range(2):\n",
    "    component_vector = evecs2[:, i]\n",
    "    plt.quiver(0, 0, component_vector[0], component_vector[1], \n",
    "               angles='xy', scale_units='xy', width=0.014, alpha=0.5, scale=1, color='r')\n",
    "    component_vector = evecs0[:, i]\n",
    "    plt.quiver(0, 0, component_vector[0], component_vector[1], \n",
    "               angles='xy', scale_units='xy', scale=1, color='g', )\n",
    "\n",
    "\n",
    "plt.axis('equal') \n",
    "#plt.ylim([y_lb, y_ub])\n",
    "#plt.xlim([x_lb, x_ub])\n",
    "plt.grid(alpha=0.3)\n",
    "plt.savefig(\"Tyler_PCA.pdf\")"
   ]
  }
 ],
 "metadata": {
  "kernelspec": {
   "display_name": "venv",
   "language": "python",
   "name": "python3"
  },
  "language_info": {
   "codemirror_mode": {
    "name": "ipython",
    "version": 3
   },
   "file_extension": ".py",
   "mimetype": "text/x-python",
   "name": "python",
   "nbconvert_exporter": "python",
   "pygments_lexer": "ipython3",
   "version": "3.8.10"
  }
 },
 "nbformat": 4,
 "nbformat_minor": 2
}
